{
 "cells": [
  {
   "cell_type": "markdown",
   "id": "9f319b33",
   "metadata": {},
   "source": [
    "# Linear Regression\n",
    "\n",
    "## predict the percentage of marks that a student is expected to score."
   ]
  },
  {
   "cell_type": "markdown",
   "id": "bd3104bc",
   "metadata": {},
   "source": [
    "in this regression task we will predict the percentage of marks that a student is expected to score based up the number of hours they studied. this is a simple linear regression task it involves just two variables."
   ]
  },
  {
   "cell_type": "markdown",
   "id": "55a23ae2",
   "metadata": {},
   "source": [
    "### importing the required libraries"
   ]
  },
  {
   "cell_type": "code",
   "execution_count": 1,
   "id": "ec501c33",
   "metadata": {},
   "outputs": [],
   "source": [
    "import pandas as pd\n",
    "import numpy as np\n",
    "import matplotlib.pyplot as plt"
   ]
  },
  {
   "cell_type": "code",
   "execution_count": 7,
   "id": "283afe54",
   "metadata": {},
   "outputs": [
    {
     "name": "stdout",
     "output_type": "stream",
     "text": [
      "the imported data: \n",
      "     Hours  Scores\n",
      "0     2.5      21\n",
      "1     5.1      47\n",
      "2     3.2      27\n",
      "3     8.5      75\n",
      "4     3.5      30\n",
      "5     1.5      20\n",
      "6     9.2      88\n",
      "7     5.5      60\n",
      "8     8.3      81\n",
      "9     2.7      25\n",
      "10    7.7      85\n",
      "11    5.9      62\n",
      "12    4.5      41\n",
      "13    3.3      42\n",
      "14    1.1      17\n",
      "15    8.9      95\n",
      "16    2.5      30\n",
      "17    1.9      24\n",
      "18    6.1      67\n",
      "19    7.4      69\n",
      "20    2.7      30\n",
      "21    4.8      54\n",
      "22    3.8      35\n",
      "23    6.9      76\n",
      "24    7.8      86\n"
     ]
    }
   ],
   "source": [
    "data = pd.read_csv('student_scores.csv')\n",
    "print('the imported data: \\n', data)"
   ]
  },
  {
   "cell_type": "markdown",
   "id": "544ea48e",
   "metadata": {},
   "source": [
    "## let's visualize our data"
   ]
  },
  {
   "cell_type": "raw",
   "id": "e7be2d27",
   "metadata": {},
   "source": [
    "let's plot our data on 2D graph and see if we can manualy find any relationship between the two variables"
   ]
  },
  {
   "cell_type": "code",
   "execution_count": 18,
   "id": "675c025b",
   "metadata": {},
   "outputs": [
    {
     "data": {
      "image/png": "[encoded data removed]",
      "text/plain": [
       "<Figure size 560x560 with 1 Axes>"
      ]
     },
     "metadata": {
      "needs_background": "light"
     },
     "output_type": "display_data"
    }
   ],
   "source": [
    "fig = plt.figure(figsize = (7, 7), dpi = 80)\n",
    "plt.scatter(data['Hours'], data['Scores'], facecolor = 'r', edgecolor = 'b')\n",
    "plt.xlabel('studied hours', fontsize = 15)\n",
    "plt.ylabel('scores',  fontsize = 15)\n",
    "plt.title('the distribution of scores')\n",
    "plt.grid(True)\n",
    "plt.show()"
   ]
  },
  {
   "cell_type": "markdown",
   "id": "32b58966",
   "metadata": {},
   "source": [
    "#### from the graph below, we can see clearly that there is a positive linear relation between the studied hours and the scores"
   ]
  },
  {
   "cell_type": "markdown",
   "id": "de24b0b8",
   "metadata": {},
   "source": [
    "# Preparing the data for training"
   ]
  },
  {
   "cell_type": "raw",
   "id": "91fd9c44",
   "metadata": {},
   "source": [
    "in this step we are going label our data every records is going to be associated with a label"
   ]
  },
  {
   "cell_type": "code",
   "execution_count": 38,
   "id": "44f38189",
   "metadata": {},
   "outputs": [],
   "source": [
    "hours = data.iloc[:, :-1].values\n",
    "score = data.iloc[:, 1].values"
   ]
  },
  {
   "cell_type": "raw",
   "id": "d370f8b1",
   "metadata": {},
   "source": [
    "now let's split our data into training sets and test sets using scikit learn library"
   ]
  },
  {
   "cell_type": "code",
   "execution_count": 39,
   "id": "2e3e5fed",
   "metadata": {},
   "outputs": [],
   "source": [
    "from sklearn.model_selection import train_test_split\n",
    "\n",
    "train_data, test_data, lbl_train, lbl_test = train_test_split(hours, score, test_size = 0.2)"
   ]
  },
  {
   "cell_type": "raw",
   "id": "ce2052b6",
   "metadata": {},
   "source": [
    "we are going to use 80% of data for training and the rest is for testing"
   ]
  },
  {
   "cell_type": "markdown",
   "id": "b670b83a",
   "metadata": {},
   "source": [
    "# Training the Algorithm"
   ]
  },
  {
   "cell_type": "code",
   "execution_count": 40,
   "id": "2eac3f6a",
   "metadata": {},
   "outputs": [
    {
     "name": "stdout",
     "output_type": "stream",
     "text": [
      "training complete\n"
     ]
    }
   ],
   "source": [
    "from sklearn.linear_model import LinearRegression\n",
    "\n",
    "\n",
    "regr = LinearRegression()\n",
    "regr.fit(train_data, lbl_train)\n",
    "\n",
    "print('training complete')"
   ]
  },
  {
   "cell_type": "markdown",
   "id": "5c182788",
   "metadata": {},
   "source": [
    "### make predictions using the testing set"
   ]
  },
  {
   "cell_type": "code",
   "execution_count": 41,
   "id": "2ff3eb2a",
   "metadata": {},
   "outputs": [
    {
     "name": "stdout",
     "output_type": "stream",
     "text": [
      "[[5.1]\n",
      " [3.2]\n",
      " [7.8]\n",
      " [7.4]\n",
      " [4.8]]\n"
     ]
    }
   ],
   "source": [
    "print(test_data)\n",
    "data_pred = regr.predict(test_data)"
   ]
  },
  {
   "cell_type": "markdown",
   "id": "f4bad6d9",
   "metadata": {},
   "source": [
    "### comparing the actual vs the predicted"
   ]
  },
  {
   "cell_type": "code",
   "execution_count": 43,
   "id": "02135de8",
   "metadata": {},
   "outputs": [
    {
     "name": "stdout",
     "output_type": "stream",
     "text": [
      "   Actual  Predicted_score\n",
      "0      47        52.614143\n",
      "1      27        34.266659\n",
      "2      86        78.686882\n",
      "3      69        74.824254\n",
      "4      54        49.717171\n"
     ]
    }
   ],
   "source": [
    "predicted_data = pd.DataFrame({'Actual':lbl_test, 'Predicted_score':data_pred})\n",
    "print(predicted_data)"
   ]
  },
  {
   "cell_type": "markdown",
   "id": "8922e4e5",
   "metadata": {},
   "source": [
    "### the coefficients and evaluations\n"
   ]
  },
  {
   "cell_type": "code",
   "execution_count": 66,
   "id": "3de602c6",
   "metadata": {},
   "outputs": [
    {
     "name": "stdout",
     "output_type": "stream",
     "text": [
      "the coefficients:\n",
      " [9.65657012]\n",
      "Mean absolute error: 6.06\n",
      "Mean squared  error: 38.01\n"
     ]
    }
   ],
   "source": [
    "from sklearn.metrics import mean_absolute_error, mean_squared_error\n",
    "\n",
    "print(\"the coefficients:\\n\", regr.coef_)\n",
    "print(\"Mean absolute error: %.2f\" % mean_absolute_error(lbl_test, data_pred))\n",
    "print(\"Mean squared  error: %.2f\" % mean_squared_error(lbl_test, data_pred))"
   ]
  },
  {
   "cell_type": "markdown",
   "id": "121535ca",
   "metadata": {},
   "source": [
    "### plotting for the test data"
   ]
  },
  {
   "cell_type": "code",
   "execution_count": 68,
   "id": "eab9d037",
   "metadata": {},
   "outputs": [
    {
     "data": {
      "image/png": "[encoded data removed]",
      "text/plain": [
       "<Figure size 560x560 with 1 Axes>"
      ]
     },
     "metadata": {
      "needs_background": "light"
     },
     "output_type": "display_data"
    }
   ],
   "source": [
    "fig = plt.figure(figsize=(7, 7), dpi = 80)\n",
    "plt.scatter(x=data['Hours'], y=data['Scores'], color = \"red\", edgecolor = \"black\")\n",
    "plt.plot(test_data, data_pred, linewidth= 3)\n",
    "plt.grid(True)\n",
    "plt.xlabel('studied hours', fontsize=10)\n",
    "plt.ylabel('score', fontsize=10)\n",
    "\n",
    "plt.show()"
   ]
  }
 ],
 "metadata": {
  "kernelspec": {
   "display_name": "Python 3 (ipykernel)",
   "language": "python",
   "name": "python3"
  },
  "language_info": {
   "codemirror_mode": {
    "name": "ipython",
    "version": 3
   },
   "file_extension": ".py",
   "mimetype": "text/x-python",
   "name": "python",
   "nbconvert_exporter": "python",
   "pygments_lexer": "ipython3",
   "version": "3.9.7"
  }
 },
 "nbformat": 4,
 "nbformat_minor": 5
}
